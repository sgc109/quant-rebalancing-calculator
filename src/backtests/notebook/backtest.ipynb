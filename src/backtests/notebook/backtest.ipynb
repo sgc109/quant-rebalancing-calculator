{
 "cells": [
  {
   "cell_type": "code",
   "execution_count": 11,
   "metadata": {
    "collapsed": true,
    "ExecuteTime": {
     "end_time": "2024-03-31T04:49:10.235141Z",
     "start_time": "2024-03-31T04:48:52.266071Z"
    }
   },
   "outputs": [],
   "source": [
    "%use kandy\n",
    "%use dataframe"
   ]
  },
  {
   "cell_type": "markdown",
   "source": [
    "Define basic properties for simulation.\n",
    "'startDate' and 'endDate' could be changed because of all assets' availability."
   ],
   "metadata": {
    "collapsed": false
   }
  },
  {
   "cell_type": "code",
   "execution_count": 1,
   "outputs": [],
   "source": [
    "import portfolio.rebalancer.strategy.HAAStrategy\n",
    "import java.time.ZoneId\n",
    "import java.time.ZonedDateTime\n",
    "\n",
    "val strategy = HAAStrategy()\n",
    "val initialBudget = 100000.0\n",
    "val startDate = ZonedDateTime.of(1970, 1, 1, 0, 0, 0, 0, ZoneId.systemDefault())\n",
    "// val startDate = ZonedDateTime.of(2011, 4, 1, 0, 0, 0, 0, ZoneId.systemDefault())\n",
    "val endDate = ZonedDateTime.of(2024, 1, 1, 0, 0, 0, 0, ZoneId.systemDefault())"
   ],
   "metadata": {
    "collapsed": false,
    "ExecuteTime": {
     "end_time": "2024-03-31T04:52:31.429185Z",
     "start_time": "2024-03-31T04:52:30.815014Z"
    }
   }
  },
  {
   "cell_type": "markdown",
   "source": [
    "Load all the CSV files including price data of various ETFs"
   ],
   "metadata": {
    "collapsed": false
   }
  },
  {
   "cell_type": "code",
   "execution_count": 2,
   "outputs": [],
   "source": [
    "import portfolio.rebalancer.io.PriceDataManager\n",
    "\n",
    "val csvFilesDir = System.getProperty(\"user.dir\") + \"../csv\"\n",
    "val allPrices = PriceDataManager(baseDir = csvFilesDir).allPrices"
   ],
   "metadata": {
    "collapsed": false,
    "ExecuteTime": {
     "end_time": "2024-03-31T04:52:36.796401Z",
     "start_time": "2024-03-31T04:52:35.791548Z"
    }
   }
  },
  {
   "cell_type": "markdown",
   "source": [
    "Simulate HAA strategy in as longest period where all the assets are available as possible"
   ],
   "metadata": {
    "collapsed": false
   }
  },
  {
   "cell_type": "code",
   "execution_count": 4,
   "outputs": [
    {
     "name": "stdout",
     "output_type": "stream",
     "text": [
      "Start simulating from 2014-11-08T06:00+09:00[Asia/Seoul] with 100000.0 USD\n",
      "datesToReBalance=[2015-11-07T06:00+09:00[Asia/Seoul], 2015-12-08T06:00+09:00[Asia/Seoul], 2016-01-08T06:00+09:00[Asia/Seoul], 2016-02-09T06:00+09:00[Asia/Seoul], 2016-03-08T06:00+09:00[Asia/Seoul], 2016-04-08T06:00+09:00[Asia/Seoul], 2016-05-07T06:00+09:00[Asia/Seoul], 2016-06-08T06:00+09:00[Asia/Seoul], 2016-07-08T06:00+09:00[Asia/Seoul], 2016-08-09T06:00+09:00[Asia/Seoul], 2016-09-08T06:00+09:00[Asia/Seoul], 2016-10-08T06:00+09:00[Asia/Seoul], 2016-11-08T06:00+09:00[Asia/Seoul], 2016-12-08T06:00+09:00[Asia/Seoul], 2017-01-07T06:00+09:00[Asia/Seoul], 2017-02-08T06:00+09:00[Asia/Seoul], 2017-03-08T06:00+09:00[Asia/Seoul], 2017-04-08T06:00+09:00[Asia/Seoul], 2017-05-09T06:00+09:00[Asia/Seoul], 2017-06-08T06:00+09:00[Asia/Seoul], 2017-07-08T06:00+09:00[Asia/Seoul], 2017-08-08T06:00+09:00[Asia/Seoul], 2017-09-08T06:00+09:00[Asia/Seoul], 2017-10-07T06:00+09:00[Asia/Seoul], 2017-11-08T06:00+09:00[Asia/Seoul], 2017-12-08T06:00+09:00[Asia/Seoul], 2018-01-09T06:00+09:00[Asia/Seoul], 2018-02-08T06:00+09:00[Asia/Seoul], 2018-03-08T06:00+09:00[Asia/Seoul], 2018-04-07T06:00+09:00[Asia/Seoul], 2018-05-08T06:00+09:00[Asia/Seoul], 2018-06-08T06:00+09:00[Asia/Seoul], 2018-07-07T06:00+09:00[Asia/Seoul], 2018-08-08T06:00+09:00[Asia/Seoul], 2018-09-08T06:00+09:00[Asia/Seoul], 2018-10-09T06:00+09:00[Asia/Seoul], 2018-11-08T06:00+09:00[Asia/Seoul], 2018-12-08T06:00+09:00[Asia/Seoul], 2019-01-08T06:00+09:00[Asia/Seoul], 2019-02-08T06:00+09:00[Asia/Seoul], 2019-03-08T06:00+09:00[Asia/Seoul], 2019-04-09T06:00+09:00[Asia/Seoul], 2019-05-08T06:00+09:00[Asia/Seoul], 2019-06-08T06:00+09:00[Asia/Seoul], 2019-07-09T06:00+09:00[Asia/Seoul], 2019-08-08T06:00+09:00[Asia/Seoul], 2019-09-07T06:00+09:00[Asia/Seoul], 2019-10-08T06:00+09:00[Asia/Seoul], 2019-11-08T06:00+09:00[Asia/Seoul], 2019-12-07T06:00+09:00[Asia/Seoul], 2020-01-08T06:00+09:00[Asia/Seoul], 2020-02-08T06:00+09:00[Asia/Seoul], 2020-03-07T06:00+09:00[Asia/Seoul], 2020-04-08T06:00+09:00[Asia/Seoul], 2020-05-08T06:00+09:00[Asia/Seoul], 2020-06-09T06:00+09:00[Asia/Seoul], 2020-07-08T06:00+09:00[Asia/Seoul], 2020-08-08T06:00+09:00[Asia/Seoul], 2020-09-09T06:00+09:00[Asia/Seoul], 2020-10-08T06:00+09:00[Asia/Seoul], 2020-11-07T06:00+09:00[Asia/Seoul], 2020-12-08T06:00+09:00[Asia/Seoul], 2021-01-08T06:00+09:00[Asia/Seoul], 2021-02-09T06:00+09:00[Asia/Seoul], 2021-03-09T06:00+09:00[Asia/Seoul], 2021-04-08T06:00+09:00[Asia/Seoul], 2021-05-08T06:00+09:00[Asia/Seoul], 2021-06-08T06:00+09:00[Asia/Seoul], 2021-07-08T06:00+09:00[Asia/Seoul], 2021-08-07T06:00+09:00[Asia/Seoul], 2021-09-08T06:00+09:00[Asia/Seoul], 2021-10-08T06:00+09:00[Asia/Seoul], 2021-11-09T06:00+09:00[Asia/Seoul], 2021-12-08T06:00+09:00[Asia/Seoul], 2022-01-08T06:00+09:00[Asia/Seoul], 2022-02-08T06:00+09:00[Asia/Seoul], 2022-03-08T06:00+09:00[Asia/Seoul], 2022-04-08T06:00+09:00[Asia/Seoul], 2022-05-07T06:00+09:00[Asia/Seoul], 2022-06-08T06:00+09:00[Asia/Seoul], 2022-07-08T06:00+09:00[Asia/Seoul], 2022-08-09T06:00+09:00[Asia/Seoul], 2022-09-08T06:00+09:00[Asia/Seoul], 2022-10-08T06:00+09:00[Asia/Seoul], 2022-11-08T06:00+09:00[Asia/Seoul], 2022-12-08T06:00+09:00[Asia/Seoul], 2023-01-07T06:00+09:00[Asia/Seoul], 2023-02-08T06:00+09:00[Asia/Seoul], 2023-03-08T06:00+09:00[Asia/Seoul], 2023-04-07T06:00+09:00[Asia/Seoul], 2023-05-09T06:00+09:00[Asia/Seoul], 2023-06-08T06:00+09:00[Asia/Seoul], 2023-07-08T06:00+09:00[Asia/Seoul], 2023-08-08T06:00+09:00[Asia/Seoul], 2023-09-08T06:00+09:00[Asia/Seoul], 2023-10-07T06:00+09:00[Asia/Seoul], 2023-11-08T06:00+09:00[Asia/Seoul], 2023-12-08T06:00+09:00[Asia/Seoul]]\n",
      "symbol=PDBC, pastMonth=12\n"
     ]
    },
    {
     "name": "stderr",
     "output_type": "stream",
     "text": [
      "null\n",
      "java.lang.NullPointerException\n",
      "\tat portfolio.rebalancer.strategy.HAAStrategy.calculateMomentumScores(HAAStrategy.kt:155)\n",
      "\tat portfolio.rebalancer.strategy.HAAStrategy.balanceBudget(HAAStrategy.kt:44)\n",
      "\tat portfolio.rebalancer.StrategySimulator.simulate(StrategySimulator.kt:69)\n",
      "\tat Line_7_jupyter.<init>(Line_7.jupyter.kts:5)\n",
      "\tat java.base/jdk.internal.reflect.NativeConstructorAccessorImpl.newInstance0(Native Method)\n",
      "\tat java.base/jdk.internal.reflect.NativeConstructorAccessorImpl.newInstance(NativeConstructorAccessorImpl.java:62)\n",
      "\tat java.base/jdk.internal.reflect.DelegatingConstructorAccessorImpl.newInstance(DelegatingConstructorAccessorImpl.java:45)\n",
      "\tat java.base/java.lang.reflect.Constructor.newInstance(Constructor.java:490)\n",
      "\tat kotlin.script.experimental.jvm.BasicJvmScriptEvaluator.evalWithConfigAndOtherScriptsResults(BasicJvmScriptEvaluator.kt:105)\n",
      "\tat kotlin.script.experimental.jvm.BasicJvmScriptEvaluator.invoke$suspendImpl(BasicJvmScriptEvaluator.kt:47)\n",
      "\tat kotlin.script.experimental.jvm.BasicJvmScriptEvaluator.invoke(BasicJvmScriptEvaluator.kt)\n",
      "\tat kotlin.script.experimental.jvm.BasicJvmReplEvaluator.eval(BasicJvmReplEvaluator.kt:49)\n",
      "\tat org.jetbrains.kotlinx.jupyter.repl.impl.InternalEvaluatorImpl$eval$resultWithDiagnostics$1.invokeSuspend(InternalEvaluatorImpl.kt:107)\n",
      "\tat kotlin.coroutines.jvm.internal.BaseContinuationImpl.resumeWith(ContinuationImpl.kt:33)\n",
      "\tat kotlinx.coroutines.DispatchedTask.run(DispatchedTask.kt:106)\n",
      "\tat kotlinx.coroutines.EventLoopImplBase.processNextEvent(EventLoop.common.kt:284)\n",
      "\tat kotlinx.coroutines.BlockingCoroutine.joinBlocking(Builders.kt:85)\n",
      "\tat kotlinx.coroutines.BuildersKt__BuildersKt.runBlocking(Builders.kt:59)\n",
      "\tat kotlinx.coroutines.BuildersKt.runBlocking(Unknown Source)\n",
      "\tat kotlinx.coroutines.BuildersKt__BuildersKt.runBlocking$default(Builders.kt:38)\n",
      "\tat kotlinx.coroutines.BuildersKt.runBlocking$default(Unknown Source)\n",
      "\tat org.jetbrains.kotlinx.jupyter.repl.impl.InternalEvaluatorImpl.eval(InternalEvaluatorImpl.kt:107)\n",
      "\tat org.jetbrains.kotlinx.jupyter.repl.impl.CellExecutorImpl$execute$1$result$1.invoke(CellExecutorImpl.kt:75)\n",
      "\tat org.jetbrains.kotlinx.jupyter.repl.impl.CellExecutorImpl$execute$1$result$1.invoke(CellExecutorImpl.kt:73)\n",
      "\tat org.jetbrains.kotlinx.jupyter.ReplForJupyterImpl.withHost(repl.kt:690)\n",
      "\tat org.jetbrains.kotlinx.jupyter.repl.impl.CellExecutorImpl.execute(CellExecutorImpl.kt:73)\n",
      "\tat org.jetbrains.kotlinx.jupyter.repl.CellExecutor$DefaultImpls.execute$default(CellExecutor.kt:14)\n",
      "\tat org.jetbrains.kotlinx.jupyter.ReplForJupyterImpl$evalEx$1.invoke(repl.kt:500)\n",
      "\tat org.jetbrains.kotlinx.jupyter.ReplForJupyterImpl$evalEx$1.invoke(repl.kt:478)\n",
      "\tat org.jetbrains.kotlinx.jupyter.ReplForJupyterImpl.withEvalContext(repl.kt:441)\n",
      "\tat org.jetbrains.kotlinx.jupyter.ReplForJupyterImpl.evalEx(repl.kt:478)\n",
      "\tat org.jetbrains.kotlinx.jupyter.messaging.ProtocolKt$shellMessagesHandler$2$res$1.invoke(protocol.kt:320)\n",
      "\tat org.jetbrains.kotlinx.jupyter.messaging.ProtocolKt$shellMessagesHandler$2$res$1.invoke(protocol.kt:314)\n",
      "\tat org.jetbrains.kotlinx.jupyter.JupyterExecutorImpl$runExecution$execThread$1.invoke(execution.kt:38)\n",
      "\tat org.jetbrains.kotlinx.jupyter.JupyterExecutorImpl$runExecution$execThread$1.invoke(execution.kt:33)\n",
      "\tat kotlin.concurrent.ThreadsKt$thread$thread$1.run(Thread.kt:30)\n"
     ]
    }
   ],
   "source": [
    "import portfolio.rebalancer.StrategySimulator\n",
    "import portfolio.rebalancer.dto.SymbolPricesByDate\n",
    "import portfolio.rebalancer.util.DrawdownCalculator\n",
    "\n",
    "val strategySimulator = StrategySimulator(DrawdownCalculator())\n",
    "val result = strategySimulator.simulate(\n",
    "    budget = initialBudget,\n",
    "    strategy = strategy,\n",
    "    allTimeSymbolPrices = SymbolPricesByDate(value = allPrices),\n",
    "    startDate = startDate,\n",
    "    endDate = endDate,\n",
    ")"
   ],
   "metadata": {
    "collapsed": false,
    "ExecuteTime": {
     "end_time": "2024-03-31T04:53:29.875696Z",
     "start_time": "2024-03-31T04:53:29.462815Z"
    }
   }
  },
  {
   "cell_type": "markdown",
   "source": [
    "Total profit rate"
   ],
   "metadata": {
    "collapsed": false
   }
  },
  {
   "cell_type": "code",
   "execution_count": 15,
   "outputs": [
    {
     "name": "stderr",
     "output_type": "stream",
     "text": [
      "null\n",
      "java.lang.NullPointerException\n",
      "\tat Line_22_jupyter.<init>(Line_22.jupyter.kts:1)\n",
      "\tat java.base/jdk.internal.reflect.NativeConstructorAccessorImpl.newInstance0(Native Method)\n",
      "\tat java.base/jdk.internal.reflect.NativeConstructorAccessorImpl.newInstance(NativeConstructorAccessorImpl.java:62)\n",
      "\tat java.base/jdk.internal.reflect.DelegatingConstructorAccessorImpl.newInstance(DelegatingConstructorAccessorImpl.java:45)\n",
      "\tat java.base/java.lang.reflect.Constructor.newInstance(Constructor.java:490)\n",
      "\tat kotlin.script.experimental.jvm.BasicJvmScriptEvaluator.evalWithConfigAndOtherScriptsResults(BasicJvmScriptEvaluator.kt:105)\n",
      "\tat kotlin.script.experimental.jvm.BasicJvmScriptEvaluator.invoke$suspendImpl(BasicJvmScriptEvaluator.kt:47)\n",
      "\tat kotlin.script.experimental.jvm.BasicJvmScriptEvaluator.invoke(BasicJvmScriptEvaluator.kt)\n",
      "\tat kotlin.script.experimental.jvm.BasicJvmReplEvaluator.eval(BasicJvmReplEvaluator.kt:49)\n",
      "\tat org.jetbrains.kotlinx.jupyter.repl.impl.InternalEvaluatorImpl$eval$resultWithDiagnostics$1.invokeSuspend(InternalEvaluatorImpl.kt:107)\n",
      "\tat kotlin.coroutines.jvm.internal.BaseContinuationImpl.resumeWith(ContinuationImpl.kt:33)\n",
      "\tat kotlinx.coroutines.DispatchedTask.run(DispatchedTask.kt:106)\n",
      "\tat kotlinx.coroutines.EventLoopImplBase.processNextEvent(EventLoop.common.kt:284)\n",
      "\tat kotlinx.coroutines.BlockingCoroutine.joinBlocking(Builders.kt:85)\n",
      "\tat kotlinx.coroutines.BuildersKt__BuildersKt.runBlocking(Builders.kt:59)\n",
      "\tat kotlinx.coroutines.BuildersKt.runBlocking(Unknown Source)\n",
      "\tat kotlinx.coroutines.BuildersKt__BuildersKt.runBlocking$default(Builders.kt:38)\n",
      "\tat kotlinx.coroutines.BuildersKt.runBlocking$default(Unknown Source)\n",
      "\tat org.jetbrains.kotlinx.jupyter.repl.impl.InternalEvaluatorImpl.eval(InternalEvaluatorImpl.kt:107)\n",
      "\tat org.jetbrains.kotlinx.jupyter.repl.impl.CellExecutorImpl$execute$1$result$1.invoke(CellExecutorImpl.kt:75)\n",
      "\tat org.jetbrains.kotlinx.jupyter.repl.impl.CellExecutorImpl$execute$1$result$1.invoke(CellExecutorImpl.kt:73)\n",
      "\tat org.jetbrains.kotlinx.jupyter.ReplForJupyterImpl.withHost(repl.kt:690)\n",
      "\tat org.jetbrains.kotlinx.jupyter.repl.impl.CellExecutorImpl.execute(CellExecutorImpl.kt:73)\n",
      "\tat org.jetbrains.kotlinx.jupyter.repl.CellExecutor$DefaultImpls.execute$default(CellExecutor.kt:14)\n",
      "\tat org.jetbrains.kotlinx.jupyter.ReplForJupyterImpl$evalEx$1.invoke(repl.kt:500)\n",
      "\tat org.jetbrains.kotlinx.jupyter.ReplForJupyterImpl$evalEx$1.invoke(repl.kt:478)\n",
      "\tat org.jetbrains.kotlinx.jupyter.ReplForJupyterImpl.withEvalContext(repl.kt:441)\n",
      "\tat org.jetbrains.kotlinx.jupyter.ReplForJupyterImpl.evalEx(repl.kt:478)\n",
      "\tat org.jetbrains.kotlinx.jupyter.messaging.ProtocolKt$shellMessagesHandler$2$res$1.invoke(protocol.kt:320)\n",
      "\tat org.jetbrains.kotlinx.jupyter.messaging.ProtocolKt$shellMessagesHandler$2$res$1.invoke(protocol.kt:314)\n",
      "\tat org.jetbrains.kotlinx.jupyter.JupyterExecutorImpl$runExecution$execThread$1.invoke(execution.kt:38)\n",
      "\tat org.jetbrains.kotlinx.jupyter.JupyterExecutorImpl$runExecution$execThread$1.invoke(execution.kt:33)\n",
      "\tat kotlin.concurrent.ThreadsKt$thread$thread$1.run(Thread.kt:30)\n"
     ]
    }
   ],
   "source": [
    "\"${(result.timeSeriesData.last().second / initialBudget - 1.0) * 100}% between ${result.timeSeriesData.first().first} and ${result.timeSeriesData.last().first}\""
   ],
   "metadata": {
    "collapsed": false,
    "ExecuteTime": {
     "end_time": "2024-03-31T04:49:11.428405Z",
     "start_time": "2024-03-31T04:49:11.192571Z"
    }
   }
  },
  {
   "cell_type": "markdown",
   "source": [
    "Plot a line graph showing total asset over time"
   ],
   "metadata": {
    "collapsed": false
   }
  },
  {
   "cell_type": "code",
   "execution_count": 16,
   "outputs": [
    {
     "name": "stderr",
     "output_type": "stream",
     "text": [
      "null\n",
      "java.lang.NullPointerException\n",
      "\tat Line_23_jupyter.<init>(Line_23.jupyter.kts:5)\n",
      "\tat java.base/jdk.internal.reflect.NativeConstructorAccessorImpl.newInstance0(Native Method)\n",
      "\tat java.base/jdk.internal.reflect.NativeConstructorAccessorImpl.newInstance(NativeConstructorAccessorImpl.java:62)\n",
      "\tat java.base/jdk.internal.reflect.DelegatingConstructorAccessorImpl.newInstance(DelegatingConstructorAccessorImpl.java:45)\n",
      "\tat java.base/java.lang.reflect.Constructor.newInstance(Constructor.java:490)\n",
      "\tat kotlin.script.experimental.jvm.BasicJvmScriptEvaluator.evalWithConfigAndOtherScriptsResults(BasicJvmScriptEvaluator.kt:105)\n",
      "\tat kotlin.script.experimental.jvm.BasicJvmScriptEvaluator.invoke$suspendImpl(BasicJvmScriptEvaluator.kt:47)\n",
      "\tat kotlin.script.experimental.jvm.BasicJvmScriptEvaluator.invoke(BasicJvmScriptEvaluator.kt)\n",
      "\tat kotlin.script.experimental.jvm.BasicJvmReplEvaluator.eval(BasicJvmReplEvaluator.kt:49)\n",
      "\tat org.jetbrains.kotlinx.jupyter.repl.impl.InternalEvaluatorImpl$eval$resultWithDiagnostics$1.invokeSuspend(InternalEvaluatorImpl.kt:107)\n",
      "\tat kotlin.coroutines.jvm.internal.BaseContinuationImpl.resumeWith(ContinuationImpl.kt:33)\n",
      "\tat kotlinx.coroutines.DispatchedTask.run(DispatchedTask.kt:106)\n",
      "\tat kotlinx.coroutines.EventLoopImplBase.processNextEvent(EventLoop.common.kt:284)\n",
      "\tat kotlinx.coroutines.BlockingCoroutine.joinBlocking(Builders.kt:85)\n",
      "\tat kotlinx.coroutines.BuildersKt__BuildersKt.runBlocking(Builders.kt:59)\n",
      "\tat kotlinx.coroutines.BuildersKt.runBlocking(Unknown Source)\n",
      "\tat kotlinx.coroutines.BuildersKt__BuildersKt.runBlocking$default(Builders.kt:38)\n",
      "\tat kotlinx.coroutines.BuildersKt.runBlocking$default(Unknown Source)\n",
      "\tat org.jetbrains.kotlinx.jupyter.repl.impl.InternalEvaluatorImpl.eval(InternalEvaluatorImpl.kt:107)\n",
      "\tat org.jetbrains.kotlinx.jupyter.repl.impl.CellExecutorImpl$execute$1$result$1.invoke(CellExecutorImpl.kt:75)\n",
      "\tat org.jetbrains.kotlinx.jupyter.repl.impl.CellExecutorImpl$execute$1$result$1.invoke(CellExecutorImpl.kt:73)\n",
      "\tat org.jetbrains.kotlinx.jupyter.ReplForJupyterImpl.withHost(repl.kt:690)\n",
      "\tat org.jetbrains.kotlinx.jupyter.repl.impl.CellExecutorImpl.execute(CellExecutorImpl.kt:73)\n",
      "\tat org.jetbrains.kotlinx.jupyter.repl.CellExecutor$DefaultImpls.execute$default(CellExecutor.kt:14)\n",
      "\tat org.jetbrains.kotlinx.jupyter.ReplForJupyterImpl$evalEx$1.invoke(repl.kt:500)\n",
      "\tat org.jetbrains.kotlinx.jupyter.ReplForJupyterImpl$evalEx$1.invoke(repl.kt:478)\n",
      "\tat org.jetbrains.kotlinx.jupyter.ReplForJupyterImpl.withEvalContext(repl.kt:441)\n",
      "\tat org.jetbrains.kotlinx.jupyter.ReplForJupyterImpl.evalEx(repl.kt:478)\n",
      "\tat org.jetbrains.kotlinx.jupyter.messaging.ProtocolKt$shellMessagesHandler$2$res$1.invoke(protocol.kt:320)\n",
      "\tat org.jetbrains.kotlinx.jupyter.messaging.ProtocolKt$shellMessagesHandler$2$res$1.invoke(protocol.kt:314)\n",
      "\tat org.jetbrains.kotlinx.jupyter.JupyterExecutorImpl$runExecution$execThread$1.invoke(execution.kt:38)\n",
      "\tat org.jetbrains.kotlinx.jupyter.JupyterExecutorImpl$runExecution$execThread$1.invoke(execution.kt:33)\n",
      "\tat kotlin.concurrent.ThreadsKt$thread$thread$1.run(Thread.kt:30)\n"
     ]
    }
   ],
   "source": [
    "import java.time.format.DateTimeFormatter\n",
    "\n",
    "val formatter = DateTimeFormatter.ofPattern(\"yyyy-MM-dd\")\n",
    "\n",
    "val dates = result.timeSeriesData.map { it.first.format(formatter) }\n",
    "val assets = result.timeSeriesData.map { it.second }\n",
    "\n",
    "mapOf(\n",
    "    \"date\" to dates,\n",
    "    \"asset\" to assets,\n",
    ").plot {\n",
    "    layout { \n",
    "        title = \"Total asset over time\"\n",
    "        size = 1200 to 400\n",
    "     }\n",
    "    line {\n",
    "        x(dates)\n",
    "        y(assets)\n",
    "        color = Color.PURPLE\n",
    "        width = 1.0\n",
    "    }\n",
    "}"
   ],
   "metadata": {
    "collapsed": false,
    "ExecuteTime": {
     "end_time": "2024-03-31T04:49:12.155559Z",
     "start_time": "2024-03-31T04:49:11.433512Z"
    }
   }
  },
  {
   "cell_type": "markdown",
   "source": [
    "Drawdowns over time"
   ],
   "metadata": {
    "collapsed": false
   }
  },
  {
   "cell_type": "code",
   "execution_count": 17,
   "outputs": [
    {
     "name": "stderr",
     "output_type": "stream",
     "text": [
      "null\n",
      "java.lang.NullPointerException\n",
      "\tat Line_24_jupyter.<init>(Line_24.jupyter.kts:3)\n",
      "\tat java.base/jdk.internal.reflect.NativeConstructorAccessorImpl.newInstance0(Native Method)\n",
      "\tat java.base/jdk.internal.reflect.NativeConstructorAccessorImpl.newInstance(NativeConstructorAccessorImpl.java:62)\n",
      "\tat java.base/jdk.internal.reflect.DelegatingConstructorAccessorImpl.newInstance(DelegatingConstructorAccessorImpl.java:45)\n",
      "\tat java.base/java.lang.reflect.Constructor.newInstance(Constructor.java:490)\n",
      "\tat kotlin.script.experimental.jvm.BasicJvmScriptEvaluator.evalWithConfigAndOtherScriptsResults(BasicJvmScriptEvaluator.kt:105)\n",
      "\tat kotlin.script.experimental.jvm.BasicJvmScriptEvaluator.invoke$suspendImpl(BasicJvmScriptEvaluator.kt:47)\n",
      "\tat kotlin.script.experimental.jvm.BasicJvmScriptEvaluator.invoke(BasicJvmScriptEvaluator.kt)\n",
      "\tat kotlin.script.experimental.jvm.BasicJvmReplEvaluator.eval(BasicJvmReplEvaluator.kt:49)\n",
      "\tat org.jetbrains.kotlinx.jupyter.repl.impl.InternalEvaluatorImpl$eval$resultWithDiagnostics$1.invokeSuspend(InternalEvaluatorImpl.kt:107)\n",
      "\tat kotlin.coroutines.jvm.internal.BaseContinuationImpl.resumeWith(ContinuationImpl.kt:33)\n",
      "\tat kotlinx.coroutines.DispatchedTask.run(DispatchedTask.kt:106)\n",
      "\tat kotlinx.coroutines.EventLoopImplBase.processNextEvent(EventLoop.common.kt:284)\n",
      "\tat kotlinx.coroutines.BlockingCoroutine.joinBlocking(Builders.kt:85)\n",
      "\tat kotlinx.coroutines.BuildersKt__BuildersKt.runBlocking(Builders.kt:59)\n",
      "\tat kotlinx.coroutines.BuildersKt.runBlocking(Unknown Source)\n",
      "\tat kotlinx.coroutines.BuildersKt__BuildersKt.runBlocking$default(Builders.kt:38)\n",
      "\tat kotlinx.coroutines.BuildersKt.runBlocking$default(Unknown Source)\n",
      "\tat org.jetbrains.kotlinx.jupyter.repl.impl.InternalEvaluatorImpl.eval(InternalEvaluatorImpl.kt:107)\n",
      "\tat org.jetbrains.kotlinx.jupyter.repl.impl.CellExecutorImpl$execute$1$result$1.invoke(CellExecutorImpl.kt:75)\n",
      "\tat org.jetbrains.kotlinx.jupyter.repl.impl.CellExecutorImpl$execute$1$result$1.invoke(CellExecutorImpl.kt:73)\n",
      "\tat org.jetbrains.kotlinx.jupyter.ReplForJupyterImpl.withHost(repl.kt:690)\n",
      "\tat org.jetbrains.kotlinx.jupyter.repl.impl.CellExecutorImpl.execute(CellExecutorImpl.kt:73)\n",
      "\tat org.jetbrains.kotlinx.jupyter.repl.CellExecutor$DefaultImpls.execute$default(CellExecutor.kt:14)\n",
      "\tat org.jetbrains.kotlinx.jupyter.ReplForJupyterImpl$evalEx$1.invoke(repl.kt:500)\n",
      "\tat org.jetbrains.kotlinx.jupyter.ReplForJupyterImpl$evalEx$1.invoke(repl.kt:478)\n",
      "\tat org.jetbrains.kotlinx.jupyter.ReplForJupyterImpl.withEvalContext(repl.kt:441)\n",
      "\tat org.jetbrains.kotlinx.jupyter.ReplForJupyterImpl.evalEx(repl.kt:478)\n",
      "\tat org.jetbrains.kotlinx.jupyter.messaging.ProtocolKt$shellMessagesHandler$2$res$1.invoke(protocol.kt:320)\n",
      "\tat org.jetbrains.kotlinx.jupyter.messaging.ProtocolKt$shellMessagesHandler$2$res$1.invoke(protocol.kt:314)\n",
      "\tat org.jetbrains.kotlinx.jupyter.JupyterExecutorImpl$runExecution$execThread$1.invoke(execution.kt:38)\n",
      "\tat org.jetbrains.kotlinx.jupyter.JupyterExecutorImpl$runExecution$execThread$1.invoke(execution.kt:33)\n",
      "\tat kotlin.concurrent.ThreadsKt$thread$thread$1.run(Thread.kt:30)\n"
     ]
    }
   ],
   "source": [
    "import portfolio.rebalancer.util.DrawdownCalculator\n",
    "\n",
    "val dates = result.timeSeriesData.map { it.first.format(formatter) }.drop(1)\n",
    "val drawdowns = result.drawdownsByDate\n",
    "val mdds = drawdowns.scan(0.0) { acc, x -> minOf(acc, x) }.drop(1)\n",
    "\n",
    "mapOf(\n",
    "    \"date\" to dates + dates,\n",
    "    \"drawdown\" to drawdowns + mdds,\n",
    "    \"line\" to List(dates.size) { \"Drawdown\" } + List(dates.size) { \"MDD\" },\n",
    ").plot {\n",
    "    groupBy(\"line\") {\n",
    "        line {\n",
    "            x(\"date\")\n",
    "            y(\"drawdown\")\n",
    "            color(\"line\")\n",
    "        }\n",
    "    }\n",
    "    layout {\n",
    "        title = \"Drawdown and MDD over time\"\n",
    "        size = 1200 to 400\n",
    "    }\n",
    "}"
   ],
   "metadata": {
    "collapsed": false,
    "ExecuteTime": {
     "end_time": "2024-03-31T04:49:12.899027Z",
     "start_time": "2024-03-31T04:49:12.159396Z"
    }
   }
  },
  {
   "cell_type": "code",
   "execution_count": 18,
   "outputs": [],
   "source": [],
   "metadata": {
    "collapsed": false,
    "ExecuteTime": {
     "end_time": "2024-03-31T04:49:12.911886Z",
     "start_time": "2024-03-31T04:49:12.903610Z"
    }
   }
  }
 ],
 "metadata": {
  "kernelspec": {
   "display_name": "Kotlin",
   "language": "kotlin",
   "name": "kotlin"
  },
  "language_info": {
   "name": "kotlin",
   "version": "1.8.20",
   "mimetype": "text/x-kotlin",
   "file_extension": ".kt",
   "pygments_lexer": "kotlin",
   "codemirror_mode": "text/x-kotlin",
   "nbconvert_exporter": ""
  },
  "ktnbPluginMetadata": {
   "projectDependencies": true
  }
 },
 "nbformat": 4,
 "nbformat_minor": 0
}
